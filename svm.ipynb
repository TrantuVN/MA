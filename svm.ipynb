{
 "cells": [
  {
   "cell_type": "code",
   "execution_count": 2,
   "metadata": {},
   "outputs": [],
   "source": [
    "import numpy as np\n",
    "import pandas as pd\n",
    "from sklearn.model_selection import train_test_split, KFold\n",
    "from sklearn.svm import SVR\n",
    "\n",
    "from sklearn.preprocessing import MinMaxScaler, StandardScaler\n",
    "from sklearn.metrics import mean_squared_error, mean_absolute_error, r2_score"
   ]
  },
  {
   "cell_type": "code",
   "execution_count": null,
   "metadata": {},
   "outputs": [
    {
     "name": "stdout",
     "output_type": "stream",
     "text": [
      "=== K-Fold SVR – metrics trên THANG ĐÃ SCALE ===\n"
     ]
    },
    {
     "name": "stderr",
     "output_type": "stream",
     "text": [
      "C:\\Users\\Multiplexon\\AppData\\Roaming\\Python\\Python39\\site-packages\\sklearn\\svm\\_base.py:305: ConvergenceWarning: Solver terminated early (max_iter=20000).  Consider pre-processing your data with StandardScaler or MinMaxScaler.\n",
      "  warnings.warn(\n"
     ]
    },
    {
     "name": "stdout",
     "output_type": "stream",
     "text": [
      "[Fold  1] RMSE: 0.014716 | MSE: 0.000217 | MAE: 0.007277 | R2: 0.676593\n"
     ]
    },
    {
     "name": "stderr",
     "output_type": "stream",
     "text": [
      "C:\\Users\\Multiplexon\\AppData\\Roaming\\Python\\Python39\\site-packages\\sklearn\\svm\\_base.py:305: ConvergenceWarning: Solver terminated early (max_iter=20000).  Consider pre-processing your data with StandardScaler or MinMaxScaler.\n",
      "  warnings.warn(\n"
     ]
    },
    {
     "name": "stdout",
     "output_type": "stream",
     "text": [
      "[Fold  2] RMSE: 0.007399 | MSE: 0.000055 | MAE: 0.004187 | R2: 0.887684\n"
     ]
    },
    {
     "name": "stderr",
     "output_type": "stream",
     "text": [
      "C:\\Users\\Multiplexon\\AppData\\Roaming\\Python\\Python39\\site-packages\\sklearn\\svm\\_base.py:305: ConvergenceWarning: Solver terminated early (max_iter=20000).  Consider pre-processing your data with StandardScaler or MinMaxScaler.\n",
      "  warnings.warn(\n"
     ]
    },
    {
     "name": "stdout",
     "output_type": "stream",
     "text": [
      "[Fold  3] RMSE: 0.009597 | MSE: 0.000092 | MAE: 0.006993 | R2: 0.786309\n"
     ]
    },
    {
     "name": "stderr",
     "output_type": "stream",
     "text": [
      "C:\\Users\\Multiplexon\\AppData\\Roaming\\Python\\Python39\\site-packages\\sklearn\\svm\\_base.py:305: ConvergenceWarning: Solver terminated early (max_iter=20000).  Consider pre-processing your data with StandardScaler or MinMaxScaler.\n",
      "  warnings.warn(\n"
     ]
    },
    {
     "name": "stdout",
     "output_type": "stream",
     "text": [
      "[Fold  4] RMSE: 0.010747 | MSE: 0.000115 | MAE: 0.006650 | R2: 0.792060\n"
     ]
    },
    {
     "name": "stderr",
     "output_type": "stream",
     "text": [
      "C:\\Users\\Multiplexon\\AppData\\Roaming\\Python\\Python39\\site-packages\\sklearn\\svm\\_base.py:305: ConvergenceWarning: Solver terminated early (max_iter=20000).  Consider pre-processing your data with StandardScaler or MinMaxScaler.\n",
      "  warnings.warn(\n"
     ]
    },
    {
     "name": "stdout",
     "output_type": "stream",
     "text": [
      "[Fold  5] RMSE: 0.012525 | MSE: 0.000157 | MAE: 0.006942 | R2: 0.709878\n",
      "\n",
      "=== Trung bình qua folds (scaled) ===\n",
      "RMSE: 0.010997\n",
      "MSE : 0.000127\n",
      "MAE : 0.006410\n",
      "R2  : 0.770505\n"
     ]
    }
   ],
   "source": [
    "=SEED = 42\n",
    "np.random.seed(SEED)\n",
    "\n",
    "# ==== Load & select cols (đã preprocessing) ====\n",
    "data_path = r'C:/Users/Multiplexon/Desktop/data/2/total_selected_augmented.csv'\n",
    "df = pd.read_csv(data_path)\n",
    "\n",
    "features = [\n",
    "    'Transaction Hash_len', 'Original_len', 'signature_len',\n",
    "    'From_len', 'To_len', 'sender_len', 'paymaster_len',\n",
    "    'Txn Fee', 'logIndex', 'actualGasCost',\n",
    "    'actualGasUsed', 'nonce', 'success', 'Blockno', 'DateTime_ts'\n",
    "]\n",
    "target = 'Gas Used'\n",
    "\n",
    "X = df[features].apply(pd.to_numeric, errors='coerce').replace([np.inf,-np.inf], np.nan).fillna(0.0)\n",
    "y = pd.to_numeric(df[target], errors='coerce').replace([np.inf,-np.inf], np.nan).fillna(0.0)\n",
    "\n",
    "X_train, X_test, y_train, y_test = train_test_split(X, y, test_size=0.2, random_state=SEED)\n",
    "\n",
    "# ==== K-Fold + SVR (metrics trên THANG ĐÃ SCALE) ====\n",
    "kf = KFold(n_splits=5, shuffle=True, random_state=SEED)\n",
    "\n",
    "# ⚙️ Cấu hình giúp hội tụ ổn hơn:\n",
    "# - giảm C (dễ hội tụ hơn), giảm epsilon (bớt underfit),\n",
    "# - tol nới lỏng một chút để sớm hội tụ,\n",
    "# - max_iter=-1 (không giới hạn; thường sẽ dừng nhờ 'tol').\n",
    "svr = SVR(kernel='rbf', C=30.0, gamma='scale', epsilon=0.01,\n",
    "          tol=1e-2, max_iter=-1, cache_size=2000, shrinking=True)\n",
    "\n",
    "rmse_list, mse_list, mae_list, r2_list = [], [], [], []\n",
    "\n",
    "print(\"=== K-Fold SVR – metrics trên THANG ĐÃ SCALE ===\")\n",
    "for fold, (tr_idx, val_idx) in enumerate(kf.split(X_train), start=1):\n",
    "    X_tr = X_train.iloc[tr_idx].to_numpy()\n",
    "    X_va = X_train.iloc[val_idx].to_numpy()\n",
    "    y_tr = y_train.iloc[tr_idx].to_numpy().reshape(-1,1)\n",
    "    y_va = y_train.iloc[val_idx].to_numpy().reshape(-1,1)\n",
    "\n",
    "    # Scale THEO FOLD\n",
    "    sx, sy = StandardScaler(), MinMaxScaler()\n",
    "    X_tr_s, X_va_s = sx.fit_transform(X_tr), sx.transform(X_va)\n",
    "    y_tr_s, y_va_s = sy.fit_transform(y_tr).ravel(), sy.transform(y_va).ravel()\n",
    "\n",
    "    svr.fit(X_tr_s, y_tr_s)\n",
    "    y_pred_s = svr.predict(X_va_s)\n",
    "\n",
    "    mse  = mean_squared_error(y_va_s, y_pred_s)\n",
    "    rmse = float(np.sqrt(mse))\n",
    "    mae  = mean_absolute_error(y_va_s, y_pred_s)\n",
    "    r2   = r2_score(y_va_s, y_pred_s)\n",
    "\n",
    "    mse_list.append(mse); rmse_list.append(rmse); mae_list.append(mae); r2_list.append(r2)\n",
    "    print(f\"[Fold {fold:2d}] RMSE: {rmse:.6f} | MSE: {mse:.6f} | MAE: {mae:.6f} | R2: {r2:.6f}\")\n",
    "\n",
    "print(\"\\n=== Trung bình qua folds (scaled) ===\")\n",
    "print(f\"RMSE: {np.mean(rmse_list):.6f}\")\n",
    "print(f\"MSE : {np.mean(mse_list):.6f}\")\n",
    "print(f\"MAE : {np.mean(mae_list):.6f}\")\n",
    "print(f\"R2  : {np.mean(r2_list):.6f}\")"
   ]
  }
 ],
 "metadata": {
  "kernelspec": {
   "display_name": "Python 3",
   "language": "python",
   "name": "python3"
  },
  "language_info": {
   "codemirror_mode": {
    "name": "ipython",
    "version": 3
   },
   "file_extension": ".py",
   "mimetype": "text/x-python",
   "name": "python",
   "nbconvert_exporter": "python",
   "pygments_lexer": "ipython3",
   "version": "3.9.0"
  }
 },
 "nbformat": 4,
 "nbformat_minor": 2
}
