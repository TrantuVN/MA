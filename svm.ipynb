{
 "cells": [
  {
   "cell_type": "code",
   "execution_count": 2,
   "metadata": {},
   "outputs": [],
   "source": [
    "import numpy as np\n",
    "import pandas as pd\n",
    "from sklearn.model_selection import train_test_split, KFold\n",
    "from sklearn.svm import SVR\n",
    "\n",
    "from sklearn.preprocessing import MinMaxScaler, StandardScaler\n",
    "from sklearn.metrics import mean_squared_error, mean_absolute_error, r2_score"
   ]
  },
  {
   "cell_type": "code",
   "execution_count": null,
   "metadata": {},
   "outputs": [
    {
     "name": "stdout",
     "output_type": "stream",
     "text": [
      "=== K-Fold SVR – metrics trên THANG ĐÃ SCALE ===\n",
      "[Fold  1] RMSE: 0.011646 | MSE: 0.000136 | MAE: 0.004135 | R2: 0.769510\n"
     ]
    }
   ],
   "source": [
    "SEED = 42\n",
    "np.random.seed(SEED)\n",
    "\n",
    "# ==== Load & select cols (đã preprocessing) ====\n",
    "data_path = r'C:/Users/Multiplexon/Desktop/data/2/total_selected_augmented.csv'\n",
    "df = pd.read_csv(data_path)\n",
    "\n",
    "features = [\n",
    "    'Transaction Hash_len', 'Original_len', 'signature_len',\n",
    "    'From_len', 'To_len', 'sender_len', 'paymaster_len',\n",
    "    'Txn Fee', 'logIndex', 'actualGasCost',\n",
    "    'actualGasUsed', 'nonce', 'success', 'Blockno', 'DateTime_ts'\n",
    "]\n",
    "target = 'Gas Used'\n",
    "\n",
    "X = df[features].apply(pd.to_numeric, errors='coerce').replace([np.inf,-np.inf], np.nan).fillna(0.0)\n",
    "y = pd.to_numeric(df[target], errors='coerce').replace([np.inf,-np.inf], np.nan).fillna(0.0)\n",
    "\n",
    "X_train, X_test, y_train, y_test = train_test_split(X, y, test_size=0.2, random_state=SEED)\n",
    "\n",
    "# ==== K-Fold + SVR (metrics trên THANG ĐÃ SCALE) ====\n",
    "kf = KFold(n_splits=10, shuffle=True, random_state=SEED)\n",
    "\n",
    "svr = SVR(kernel='rbf', C=30.0, gamma='scale', epsilon=0.01,\n",
    "          tol=1e-2, max_iter=-1, cache_size=2000, shrinking=True)\n",
    "\n",
    "rmse_list, mse_list, mae_list, r2_list = [], [], [], []\n",
    "\n",
    "print(\"=== K-Fold SVR – metrics trên THANG ĐÃ SCALE ===\")\n",
    "for fold, (tr_idx, val_idx) in enumerate(kf.split(X_train), start=1):\n",
    "    X_tr = X_train.iloc[tr_idx].to_numpy()\n",
    "    X_va = X_train.iloc[val_idx].to_numpy()\n",
    "    y_tr = y_train.iloc[tr_idx].to_numpy().reshape(-1,1)\n",
    "    y_va = y_train.iloc[val_idx].to_numpy().reshape(-1,1)\n",
    "\n",
    "    # Scale THEO FOLD\n",
    "    sx, sy = StandardScaler(), MinMaxScaler()\n",
    "    X_tr_s, X_va_s = sx.fit_transform(X_tr), sx.transform(X_va)\n",
    "    y_tr_s, y_va_s = sy.fit_transform(y_tr).ravel(), sy.transform(y_va).ravel()\n",
    "\n",
    "    svr.fit(X_tr_s, y_tr_s)\n",
    "    y_pred_s = svr.predict(X_va_s)\n",
    "\n",
    "    mse  = mean_squared_error(y_va_s, y_pred_s)\n",
    "    rmse = float(np.sqrt(mse))\n",
    "    mae  = mean_absolute_error(y_va_s, y_pred_s)\n",
    "    r2   = r2_score(y_va_s, y_pred_s)\n",
    "\n",
    "    mse_list.append(mse); rmse_list.append(rmse); mae_list.append(mae); r2_list.append(r2)\n",
    "    print(f\"[Fold {fold:2d}] RMSE: {rmse:.6f} | MSE: {mse:.6f} | MAE: {mae:.6f} | R2: {r2:.6f}\")\n",
    "\n",
    "print(\"\\n=== Trung bình qua folds (scaled) ===\")\n",
    "print(f\"RMSE: {np.mean(rmse_list):.6f}\")\n",
    "print(f\"MSE : {np.mean(mse_list):.6f}\")\n",
    "print(f\"MAE : {np.mean(mae_list):.6f}\")\n",
    "print(f\"R2  : {np.mean(r2_list):.6f}\")"
   ]
  },
  {
   "cell_type": "code",
   "execution_count": null,
   "metadata": {},
   "outputs": [
    {
     "ename": "NameError",
     "evalue": "name 'np' is not defined",
     "output_type": "error",
     "traceback": [
      "\u001b[1;31m---------------------------------------------------------------------------\u001b[0m",
      "\u001b[1;31mNameError\u001b[0m                                 Traceback (most recent call last)",
      "Cell \u001b[1;32mIn[1], line 3\u001b[0m\n\u001b[0;32m      1\u001b[0m epochs \u001b[38;5;241m=\u001b[39m \u001b[38;5;241m20\u001b[39m  \n\u001b[0;32m      2\u001b[0m k \u001b[38;5;241m=\u001b[39m \u001b[38;5;241m10\u001b[39m\n\u001b[1;32m----> 3\u001b[0m cats \u001b[38;5;241m=\u001b[39m \u001b[43mnp\u001b[49m\u001b[38;5;241m.\u001b[39mzeros((epochs, \u001b[38;5;241m4\u001b[39m))  \n\u001b[0;32m      5\u001b[0m \u001b[38;5;28;01mfor\u001b[39;00m ep \u001b[38;5;129;01min\u001b[39;00m \u001b[38;5;28mrange\u001b[39m(epochs):\n\u001b[0;32m      6\u001b[0m     kf \u001b[38;5;241m=\u001b[39m KFold(n_splits\u001b[38;5;241m=\u001b[39mk, shuffle\u001b[38;5;241m=\u001b[39m\u001b[38;5;28;01mTrue\u001b[39;00m, random_state\u001b[38;5;241m=\u001b[39mSEED \u001b[38;5;241m+\u001b[39m ep)\n",
      "\u001b[1;31mNameError\u001b[0m: name 'np' is not defined"
     ]
    }
   ],
   "source": [
    "epochs = 20   # bạn đổi thành 30 nếu muốn\n",
    "k = 10\n",
    "cats = np.zeros((epochs, 4))  # lưu [RMSE, MSE, MAE, R2] cho mỗi epoch\n",
    "\n",
    "for ep in range(epochs):\n",
    "    kf = KFold(n_splits=k, shuffle=True, random_state=SEED + ep)\n",
    "\n",
    "    rmse_list, mse_list, mae_list, r2_list = [], [], [], []\n",
    "\n",
    "    for train_idx, val_idx in kf.split(X_train_scaled):\n",
    "        X_tr, X_va = X_train_scaled.iloc[train_idx], X_train_scaled.iloc[val_idx]\n",
    "        y_tr, y_va = y_train_scaled[train_idx], y_train_scaled[val_idx]\n",
    "\n",
    "        model = SVR()\n",
    "            \n",
    "        model.fit(X_tr, y_tr)\n",
    "        y_pred = model.predict(X_va)\n",
    "\n",
    "        mse  = mean_squared_error(y_va, y_pred)\n",
    "        rmse = np.sqrt(mse)\n",
    "        mae  = mean_absolute_error(y_va, y_pred)\n",
    "        r2   = r2_score(y_va, y_pred)\n",
    "\n",
    "        rmse_list.append(rmse)\n",
    "        mse_list.append(mse)\n",
    "        mae_list.append(mae)\n",
    "        r2_list.append(r2)\n",
    "\n",
    "    # lưu mean metrics của epoch này (qua 10 folds)\n",
    "    cats[ep, :] = [\n",
    "        np.mean(rmse_list),\n",
    "        np.mean(mse_list),\n",
    "        np.mean(mae_list),\n",
    "        np.mean(r2_list)\n",
    "    ]\n",
    "\n",
    "# mean cuối cùng qua tất cả epochs\n",
    "final_mean = np.mean(cats, axis=0)\n",
    "\n",
    "print(final_mean)  # 1 dòng mean cuối cùng\n",
    "print(cats)        # bảng (epochs × 4)"
   ]
  }
 ],
 "metadata": {
  "kernelspec": {
   "display_name": "Python 3",
   "language": "python",
   "name": "python3"
  },
  "language_info": {
   "codemirror_mode": {
    "name": "ipython",
    "version": 3
   },
   "file_extension": ".py",
   "mimetype": "text/x-python",
   "name": "python",
   "nbconvert_exporter": "python",
   "pygments_lexer": "ipython3",
   "version": "3.9.0"
  }
 },
 "nbformat": 4,
 "nbformat_minor": 2
}
