{
 "cells": [
  {
   "cell_type": "code",
   "execution_count": null,
   "metadata": {},
   "outputs": [],
   "source": [
    "import pandas as pd\n",
    "import numpy as np\n",
    "from sklearn.ensemble import GradientBoostingRegressor\n",
    "from sklearn.model_selection import KFold, train_test_split\n",
    "from sklearn.preprocessing import MinMaxScaler\n",
    "from sklearn.metrics import mean_squared_error, mean_absolute_error, r2_score\n",
    "\n"
   ]
  },
  {
   "cell_type": "code",
   "execution_count": null,
   "metadata": {},
   "outputs": [
    {
     "name": "stdout",
     "output_type": "stream",
     "text": [
      "Fold 1: MSE = 0.000011, MAE = 0.001350, RMSE = 0.003301, R² = 0.981477\n",
      "Fold 2: MSE = 0.000013, MAE = 0.001343, RMSE = 0.003570, R² = 0.979252\n",
      "Fold 3: MSE = 0.000010, MAE = 0.001307, RMSE = 0.003189, R² = 0.978931\n",
      "Fold 4: MSE = 0.000011, MAE = 0.001358, RMSE = 0.003355, R² = 0.977123\n",
      "Fold 5: MSE = 0.000009, MAE = 0.001273, RMSE = 0.003067, R² = 0.978876\n",
      "Fold 6: MSE = 0.000011, MAE = 0.001347, RMSE = 0.003265, R² = 0.974410\n",
      "Fold 7: MSE = 0.000009, MAE = 0.001301, RMSE = 0.003002, R² = 0.985727\n",
      "Fold 8: MSE = 0.000010, MAE = 0.001349, RMSE = 0.003126, R² = 0.979612\n",
      "Fold 9: MSE = 0.000009, MAE = 0.001287, RMSE = 0.002963, R² = 0.984288\n",
      "Fold 10: MSE = 0.000010, MAE = 0.001342, RMSE = 0.003160, R² = 0.980898\n",
      "Avg MSE : 0.000010\n",
      "Avg MAE : 0.001326\n",
      "Avg RMSE: 0.003200\n",
      "Avg R²  : 0.980059\n"
     ]
    }
   ],
   "source": [
    "# Set seed\n",
    "SEED = 42\n",
    "np.random.seed(SEED)\n",
    "\n",
    "# Load dữ liệu\n",
    "data_path = 'C:/Users/Multiplexon/Desktop/data/2/total_selected_augmented.csv'\n",
    "df = pd.read_csv(data_path)\n",
    "\n",
    "# Chọn đặc trưng và mục tiêu\n",
    "features = [\n",
    "    'Transaction Hash_len', 'Original_len', 'signature_len',\n",
    "    'From_len', 'To_len', 'sender_len', 'paymaster_len',\n",
    "    'Txn Fee', 'logIndex', 'actualGasCost',\n",
    "    'actualGasUsed', 'nonce', 'success', 'Blockno', 'DateTime_ts'\n",
    "]\n",
    "target = 'Gas Used'\n",
    "\n",
    "X = df[features].astype(float)\n",
    "y = df[target].astype(float)\n",
    "\n",
    "# Tách train/test (80/20)\n",
    "X_train, X_test, y_train, y_test = train_test_split(\n",
    "    X, y, test_size=0.2, random_state=SEED\n",
    ")\n",
    "\n",
    "# Chuẩn hóa\n",
    "scaler_X = MinMaxScaler()\n",
    "X_train_scaled = pd.DataFrame(scaler_X.fit_transform(X_train), columns=X.columns)\n",
    "X_test_scaled = pd.DataFrame(scaler_X.transform(X_test), columns=X.columns)\n",
    "\n",
    "scaler_y = MinMaxScaler()\n",
    "y_train_scaled = scaler_y.fit_transform(y_train.values.reshape(-1, 1)).flatten()\n",
    "y_test_scaled = scaler_y.transform(y_test.values.reshape(-1, 1)).flatten()\n",
    "\n",
    "# K-Fold chỉ trên tập train\n",
    "kf = KFold(n_splits=10, shuffle=True, random_state=SEED)\n",
    "\n",
    "mse_scores = []\n",
    "mae_scores = []\n",
    "rmse_scores = []\n",
    "r2_scores = []\n",
    "\n",
    "for fold, (train_idx, val_idx) in enumerate(kf.split(X_train_scaled), start=1):\n",
    "    X_tr = X_train_scaled.iloc[train_idx]\n",
    "    y_tr = y_train_scaled[train_idx]\n",
    "    X_val = X_train_scaled.iloc[val_idx]\n",
    "    y_val = y_train_scaled[val_idx]\n",
    "\n",
    "    model = GradientBoostingRegressor(loss='squared_error', learning_rate=0.1, n_estimators=100, subsample=1.0,\n",
    "        criterion='friedman_mse', min_samples_split=2, min_samples_leaf=1, max_depth=3, min_impurity_decrease=0.0,alpha=0.9, validation_fraction=0.1, tol=0.0001)\n",
    "    model.fit(X_tr, y_tr)\n",
    "\n",
    "    y_pred = model.predict(X_val)\n",
    "\n",
    "    mse = mean_squared_error(y_val, y_pred)\n",
    "    mae = mean_absolute_error(y_val, y_pred)\n",
    "    rmse = np.sqrt(mse)\n",
    "    r2 = r2_score(y_val, y_pred)\n",
    "\n",
    "    mse_scores.append(mse)\n",
    "    mae_scores.append(mae)\n",
    "    rmse_scores.append(rmse)\n",
    "    r2_scores.append(r2)\n",
    "\n",
    "    print(f\"Fold {fold}: MSE = {mse:.6f}, MAE = {mae:.6f}, RMSE = {rmse:.6f}, R² = {r2:.6f}\")\n",
    "\n",
    "print(f\"Avg MSE : {np.mean(mse_scores):.6f}\")\n",
    "print(f\"Avg MAE : {np.mean(mae_scores):.6f}\")\n",
    "print(f\"Avg RMSE: {np.mean(rmse_scores):.6f}\")\n",
    "print(f\"Avg R²  : {np.mean(r2_scores):.6f}\")"
   ]
  }
 ],
 "metadata": {
  "kernelspec": {
   "display_name": "Python 3",
   "language": "python",
   "name": "python3"
  },
  "language_info": {
   "codemirror_mode": {
    "name": "ipython",
    "version": 3
   },
   "file_extension": ".py",
   "mimetype": "text/x-python",
   "name": "python",
   "nbconvert_exporter": "python",
   "pygments_lexer": "ipython3",
   "version": "3.9.0"
  }
 },
 "nbformat": 4,
 "nbformat_minor": 2
}
